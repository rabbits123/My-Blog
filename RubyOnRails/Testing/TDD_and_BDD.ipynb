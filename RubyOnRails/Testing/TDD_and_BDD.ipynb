{
 "cells": [
  {
   "cell_type": "markdown",
   "metadata": {},
   "source": [
    "<h2>Differences between TDD and BDD<h2>"
   ]
  },
  {
   "cell_type": "markdown",
   "metadata": {},
   "source": [
    "When applying <b>test-driven development (TDD)</b>, developers can easily fall into the trap of using unit tests to test what an object or method is, rather than what it does, which is a lot more useful.\n",
    "<b>BDD</b> puts focus on behavior — what a thing does — on all levels of development\n",
    "Given some context or state of the world, <b>When something happens, Then we expect some outcome</b>.\n",
    "In practice, BDD implies an outside-in approach: starting with an acceptance test, we begin writing code in the views and work our way down to the models.\n",
    "The BDD cycle in Rails consists of the following steps:\n",
    "<ol>\n",
    "    <li>Start with a new Cucumber scenario. How the user interface allows a user to do a job</li>\n",
    "    <li>Run the scenario and watch it fail. This will tell you which steps are failing, or pending implementation.</li>\n",
    "    <li>Write a definition of the first failing or pending spec. Run the scenario and watch it fail.</li>\n",
    "    <li>You'll discover instance variables, controllers and controller actions that the view will need to do its job.</li>\n",
    "    <li>Make sure that the instance variables are assigned and that the actions respond correctly. </li>\n",
    "    <li>Test-drive those objects using the same red-green-refactor cycle with RSpec. Make sure that they provide the methods needed by the controller and the view. </li>\n",
    "    <li>Once you have implemented all the objects and methods you need and the corresponding specs are passing. run the Cucumber ==> make sure step is satisfied</li>\n",
    "</ol>\n",
    "<center><img src=\"bdd-cycle-rails.png\" width=\"50%\" heigth=\"60%\"></center> "
   ]
  }
 ],
 "metadata": {
  "kernelspec": {
   "display_name": "Ruby 2.4.1",
   "language": "ruby",
   "name": "ruby"
  },
  "language_info": {
   "file_extension": ".rb",
   "mimetype": "application/x-ruby",
   "name": "ruby",
   "version": "2.4.1"
  }
 },
 "nbformat": 4,
 "nbformat_minor": 2
}
