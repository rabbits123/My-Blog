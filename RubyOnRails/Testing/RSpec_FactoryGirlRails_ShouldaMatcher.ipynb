{
 "cells": [
  {
   "cell_type": "markdown",
   "metadata": {},
   "source": [
    "<h3><center>Using RSpec with Factory Girl, Shoulda Matcher (include Devise Token Auth)</center></h3>\n",
    "\n",
    "<b>Rspec:</b> is a 'Domain Specific Language' (DSL) testing tool written in Ruby to test Ruby code. It is a behavior-driven development (BDD) framework which is extensively used in the production applications."
   ]
  },
  {
   "cell_type": "code",
   "execution_count": null,
   "metadata": {},
   "outputs": [],
   "source": [
    "#INSTALLATION\n",
    "#gemfile\n",
    "gem \"rspec\"\n",
    "\n",
    "\n",
    "#create rspec\n",
    "rails generate rspec:install\n",
    "\n",
    "#model testing\n",
    "rails generate rspec:model <model name>\n",
    "  \n",
    "#controller testing\n",
    "rails generate rspec:controller <conller name>"
   ]
  },
  {
   "cell_type": "markdown",
   "metadata": {},
   "source": [
    " <b>Note</b> We will combine RSpec with Factory Girl and Shoulda Matcher so we just skip rspec basic."
   ]
  },
  {
   "cell_type": "markdown",
   "metadata": {},
   "source": [
    "<b>Factory girl rails</b>: is a fixtures replacement with a straightforward definition syntax, support for multiple build strategies (saved instances, unsaved instances, attribute hashes, and stubbed objects), and support for multiple factories for the same class (user, admin_user, and so on), including factory inheritance.\n",
    "    ==> easy for building object"
   ]
  },
  {
   "cell_type": "code",
   "execution_count": null,
   "metadata": {},
   "outputs": [],
   "source": [
    "#INSTALLATION\n",
    "#gem file\n",
    "gem 'factory_girl_rails', '~> 4.9'\n",
    "\n",
    "#spec/rails_helper.rb\n",
    "config.include FactoryGirl::Syntax::Methods"
   ]
  },
  {
   "cell_type": "markdown",
   "metadata": {},
   "source": [
    "<b>Note</b>: when we create rspec testing case, factory girl will automatically generate file in spec/factories"
   ]
  },
  {
   "cell_type": "code",
   "execution_count": null,
   "metadata": {},
   "outputs": [],
   "source": [
    "#For example\n",
    "\n",
    "#spec/factories/books.rb\n",
    "FactoryGirl.define do\n",
    "  factory :book do\n",
    "    title \"this is spatar\"\n",
    "    content \"nah\"\n",
    "  end\n",
    "end"
   ]
  },
  {
   "cell_type": "markdown",
   "metadata": {},
   "source": [
    "<b>Shoulda Matcher</b>: this gem will ease the writing test case things with many helpers."
   ]
  },
  {
   "cell_type": "code",
   "execution_count": null,
   "metadata": {},
   "outputs": [],
   "source": [
    "#INSTALLATION\n",
    "\n",
    "#gemfile\n",
    "gem 'shoulda-matchers', git: 'https://github.com/thoughtbot/shoulda-matchers.git', branch: 'rails-5'\n",
    "\n",
    "#spec/rails_helper.rb\n",
    "Shoulda::Matchers.configure do |config|\n",
    "    config.integrate do |with|\n",
    "      # Choose a test framework:\n",
    "      with.test_framework :rspec\n",
    "      with.library :rails\n",
    "    end\n",
    "  end"
   ]
  },
  {
   "cell_type": "markdown",
   "metadata": {},
   "source": [
    "<h3><center>UNIT TEST - MODEL TESTING (association, validation, ...)</center></h3>"
   ]
  },
  {
   "cell_type": "code",
   "execution_count": null,
   "metadata": {},
   "outputs": [],
   "source": [
    "#in spec/models/book_spec.rb\n",
    "\n",
    "require 'rails_helper'\n",
    "\n",
    "RSpec.describe Book, type: :model do\n",
    "  descrbibe 'it should validate association' do\n",
    "    it{should_belong_to(:type)}\n",
    "    it{should_belong_to(:user)}\n",
    "  end\n",
    "  \n",
    "  describe 'it should validate presence of title' do\n",
    "    it{should_validate_prensence_of(:title)}\n",
    "  end\n",
    "end\n",
    "\n",
    "\n",
    "#in spec/models/type_spec.rb\n",
    "require 'rails_helper'\n",
    "RSpec.describe Type, type: :model do\n",
    "  describe 'it should validate association' do\n",
    "    it{should_have_many(:books)}\n",
    "  end\n",
    "  \n",
    "  describe 'it should validate type presence' do\n",
    "    it{should_validate_presence_of(:title)}\n",
    "  end\n",
    "end\n",
    "\n",
    "\n",
    "# in spec/models/user_spec.rb\n",
    "require 'rails_helper'\n",
    "RSpec.describe User, type: :model do\n",
    "  describe 'it should validate association' do\n",
    "    it {should_have_many(:books)}\n",
    "  end\n",
    "end"
   ]
  },
  {
   "cell_type": "markdown",
   "metadata": {},
   "source": [
    "<h3><center>CONTROLLER TESTING (routes testing, response testing)</center></h3>"
   ]
  },
  {
   "cell_type": "code",
   "execution_count": null,
   "metadata": {},
   "outputs": [],
   "source": [
    "#in spec/controllers/book_controller_spec.rb\n",
    "\n",
    "RSpec.describe Api::V1::BooksController, type: :controller do\n",
    "\n",
    "  describe 'route testing' do\n",
    "    it {should route(:get, '/api/v1/books').to(action: :index)}\n",
    "    it {should route(:get, '/api/v1/books/1').to(action: :show, id: 1)}\n",
    "    it {should route(:post, '/api/v1/books').to(action: :create)}\n",
    "    it {should route(:put, '/api/v1/books/1').to(action: :update, id: 1)}\n",
    "    it {should route(:delete, '/api/v1/books/1').to(action: :destroy, id: 1)}\n",
    "    it {should route(:delete, '/api/v1/delete_all').to(action: :delete_all)}\n",
    "  end\n",
    "\n",
    "  \n",
    "  #testing response\n",
    "  context 'Testing actions in controller with respond with' do\n",
    "    describe 'GET #index' do\n",
    "      before {get :index}\n",
    "      it {should respond_with(200)}\n",
    "    end\n",
    "\n",
    "    describe 'GET #show' do\n",
    "      before do\n",
    "        book = FactoryGirl.create(:book)\n",
    "        get :show, params: {id: book.id}\n",
    "      end\n",
    "      it {\n",
    "        should respond_with(200)\n",
    "      }\n",
    "    end\n",
    "\n",
    "    describe 'POST #create' do\n",
    "      let(:valid_params) do\n",
    "        {\n",
    "            title: \"this is spatar\",\n",
    "            content: \"stupid book\",\n",
    "            type_id: 1,\n",
    "            user_id: 1\n",
    "        }\n",
    "      end\n",
    "\n",
    "      before do\n",
    "        #this is for devise_token_auth\n",
    "        user = FactoryGirl.build(:user)\n",
    "        auth_headers = user.create_new_auth_token\n",
    "        request.headers.merge!(auth_headers)\n",
    "        post :create, params: valid_params\n",
    "      end\n",
    "      it {\n",
    "        should respond_with(200)\n",
    "      }\n",
    "    end\n",
    "\n",
    "    describe 'PUT #update' do\n",
    "      let(:valid_params) do\n",
    "        {\n",
    "            book: {\n",
    "                title: \"this is spatar\",\n",
    "                content: \"stupid book\",\n",
    "                type_id: 1,\n",
    "                user_id: 1\n",
    "            }\n",
    "        }\n",
    "      end\n",
    "\n",
    "      before do\n",
    "        #book = FactoryGirl.create(:book)\n",
    "        user = FactoryGirl.create(:user)\n",
    "        auth_headers = user.create_new_auth_token\n",
    "        request.headers.merge!(auth_headers)\n",
    "        put :update, params: {id: 298486374, book: valid_params}\n",
    "      end\n",
    "      it {should respond_with(200)}\n",
    "    end\n",
    "\n",
    "\n",
    "    describe 'DELETE #destroy' do\n",
    "      before{\n",
    "        user = FactoryGirl.create(:user)\n",
    "        auth_headers = user.create_new_auth_token\n",
    "        request.headers.merge!(auth_headers)\n",
    "        delete :destroy, params: {id: 298486374}\n",
    "      }\n",
    "      it {should respond_with(200)}\n",
    "    end\n",
    "\n",
    "  end\n",
    "\n",
    "end\n"
   ]
  }
 ],
 "metadata": {
  "kernelspec": {
   "display_name": "Ruby 2.4.1",
   "language": "ruby",
   "name": "ruby"
  },
  "language_info": {
   "file_extension": ".rb",
   "mimetype": "application/x-ruby",
   "name": "ruby",
   "version": "2.4.1"
  }
 },
 "nbformat": 4,
 "nbformat_minor": 2
}
